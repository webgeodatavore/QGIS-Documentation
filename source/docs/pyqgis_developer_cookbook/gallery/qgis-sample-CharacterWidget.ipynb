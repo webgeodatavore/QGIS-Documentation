{
  "nbformat_minor": 0, 
  "nbformat": 4, 
  "cells": [
    {
      "execution_count": null, 
      "cell_type": "code", 
      "source": [
        "%matplotlib inline"
      ], 
      "outputs": [], 
      "metadata": {
        "collapsed": false
      }
    }, 
    {
      "source": [
        "\nCharacterWidget\n=============================\n\nThis is a CharacterWidget\n\n"
      ], 
      "cell_type": "markdown", 
      "metadata": {}
    }, 
    {
      "execution_count": null, 
      "cell_type": "code", 
      "source": [
        "from qgis.PyQt.QtGui import QFont\nfrom qgis.gui import CharacterWidget\n\ncharacter_widget = CharacterWidget()\n\n\ndef on_selected_character(character):\n    print(character)\n\ncharacter_widget.characterSelected.connect(on_selected_character)\ncharacter_widget.show()\n\nprint(character_widget.setCharacter('Z'))\nprint(character_widget.sizeHint())\n\nprint(character_widget.columns())\nprint(character_widget.setColumns(6))\n\nprint(character_widget.squareSize())\nprint(character_widget.setFont(QFont('Verdana')))\nprint(character_widget.setFontSize(32))\nprint(character_widget.setFontStyle('Bold'))"
      ], 
      "outputs": [], 
      "metadata": {
        "collapsed": false
      }
    }
  ], 
  "metadata": {
    "kernelspec": {
      "display_name": "Python 2", 
      "name": "python2", 
      "language": "python"
    }, 
    "language_info": {
      "mimetype": "text/x-python", 
      "nbconvert_exporter": "python", 
      "name": "python", 
      "file_extension": ".py", 
      "version": "2.7.12", 
      "pygments_lexer": "ipython2", 
      "codemirror_mode": {
        "version": 2, 
        "name": "ipython"
      }
    }
  }
}